{
 "cells": [
  {
   "cell_type": "code",
   "execution_count": 1,
   "metadata": {},
   "outputs": [],
   "source": [
    "%load_ext autoreload\n",
    "%autoreload 2\n",
    "   \n",
    "import numpy as np\n",
    "from scipy import misc\n",
    "import matplotlib.pyplot as plt\n",
    "%matplotlib inline\n",
    "import cv2\n",
    "import os"
   ]
  },
  {
   "cell_type": "code",
   "execution_count": 2,
   "metadata": {},
   "outputs": [],
   "source": [
    "face_cascade = cv2.CascadeClassifier('haarcascade_frontalface_default.xml')\n",
    "eye_cascade = cv2.CascadeClassifier('haarcascade_eye.xml')"
   ]
  },
  {
   "cell_type": "code",
   "execution_count": 8,
   "metadata": {},
   "outputs": [],
   "source": [
    "def get_person_name(foldername):\n",
    "    folder_name_bypart = foldername.split('_')\n",
    "    return folder_name_bypart[1]+'_'+folder_name_bypart[0]"
   ]
  },
  {
   "cell_type": "code",
   "execution_count": 18,
   "metadata": {},
   "outputs": [],
   "source": [
    "def get_fullhead(x,y,w,h):\n",
    "    new_h = int(h*1.3)\n",
    "    new_w = int(w*1.0)\n",
    "    y = int(y - h*0.2)\n",
    "    x = int(x - w*0.0)\n",
    "    return x,y,new_w,new_h"
   ]
  },
  {
   "cell_type": "code",
   "execution_count": 19,
   "metadata": {},
   "outputs": [],
   "source": [
    "imfolder = './QRI_faces/'\n",
    "outfolder = './QRI_faces_clean/'"
   ]
  },
  {
   "cell_type": "code",
   "execution_count": 20,
   "metadata": {},
   "outputs": [],
   "source": [
    "subfolders = os.listdir(imfolder)"
   ]
  },
  {
   "cell_type": "code",
   "execution_count": 21,
   "metadata": {},
   "outputs": [
    {
     "name": "stderr",
     "output_type": "stream",
     "text": [
      "C:\\Users\\xiang.zhai\\AppData\\Local\\Continuum\\miniconda3\\envs\\ML\\lib\\site-packages\\ipykernel_launcher.py:12: DeprecationWarning: `imread` is deprecated!\n",
      "`imread` is deprecated in SciPy 1.0.0, and will be removed in 1.2.0.\n",
      "Use ``imageio.imread`` instead.\n",
      "  if sys.path[0] == '':\n",
      "C:\\Users\\xiang.zhai\\AppData\\Local\\Continuum\\miniconda3\\envs\\ML\\lib\\site-packages\\ipykernel_launcher.py:20: DeprecationWarning: `imsave` is deprecated!\n",
      "`imsave` is deprecated in SciPy 1.0.0, and will be removed in 1.2.0.\n",
      "Use ``imageio.imwrite`` instead.\n"
     ]
    }
   ],
   "source": [
    "for subfolder in subfolders:\n",
    "    person_name = get_person_name(subfolder)\n",
    "    impath = imfolder+subfolder+'/'\n",
    "    subfiles = os.listdir(impath)\n",
    "    filesize = []\n",
    "    for file in subfiles:\n",
    "        tmp_stat = os.stat(impath+file)\n",
    "        filesize.append(tmp_stat.st_size)\n",
    "    iMax = filesize.index(max(filesize))\n",
    "    chosen_file = impath+subfiles[iMax]\n",
    "\n",
    "    im = misc.imread(chosen_file)\n",
    "\n",
    "    imgray = cv2.cvtColor(im, cv2.COLOR_RGB2GRAY)\n",
    "    faces = face_cascade.detectMultiScale(im, 1.3, 5)\n",
    "    \n",
    "    (x,y,w,h)=faces[0]\n",
    "    x,y,w,h = get_fullhead(x,y,w,h)\n",
    "    Face_region = im[y:y+h,x:x+w]\n",
    "    misc.imsave(outfolder+person_name+'.png',Face_region)\n",
    "    #plt.figure()\n",
    "    #plt.imshow(im)\n",
    "    #plt.plot([x,x+w,x+w,x,x],[y,y,y+h,y+h,y])\n",
    "    #plt.title(person_name)\n",
    "    #plt.show()"
   ]
  },
  {
   "cell_type": "code",
   "execution_count": null,
   "metadata": {},
   "outputs": [],
   "source": []
  }
 ],
 "metadata": {
  "kernelspec": {
   "display_name": "Python 3",
   "language": "python",
   "name": "python3"
  },
  "language_info": {
   "codemirror_mode": {
    "name": "ipython",
    "version": 3
   },
   "file_extension": ".py",
   "mimetype": "text/x-python",
   "name": "python",
   "nbconvert_exporter": "python",
   "pygments_lexer": "ipython3",
   "version": "3.6.4"
  }
 },
 "nbformat": 4,
 "nbformat_minor": 2
}
