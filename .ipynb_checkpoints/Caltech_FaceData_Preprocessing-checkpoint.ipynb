{
 "cells": [
  {
   "cell_type": "code",
   "execution_count": 9,
   "metadata": {},
   "outputs": [],
   "source": [
    "import numpy as np\n",
    "from scipy import misc\n",
    "import matplotlib.pyplot as plt\n",
    "%matplotlib inline"
   ]
  },
  {
   "cell_type": "code",
   "execution_count": 10,
   "metadata": {},
   "outputs": [],
   "source": [
    "coords = np.load('./CaltechFaceSet/raw/coords.npy')"
   ]
  },
  {
   "cell_type": "code",
   "execution_count": 25,
   "metadata": {},
   "outputs": [
    {
     "name": "stderr",
     "output_type": "stream",
     "text": [
      "/home/xiang/miniconda3/envs/ML/lib/python3.6/site-packages/ipykernel_launcher.py:2: DeprecationWarning: `imread` is deprecated!\n",
      "`imread` is deprecated in SciPy 1.0.0, and will be removed in 1.2.0.\n",
      "Use ``imageio.imread`` instead.\n",
      "  \n",
      "/home/xiang/miniconda3/envs/ML/lib/python3.6/site-packages/ipykernel_launcher.py:22: DeprecationWarning: `imsave` is deprecated!\n",
      "`imsave` is deprecated in SciPy 1.0.0, and will be removed in 1.2.0.\n",
      "Use ``imageio.imwrite`` instead.\n"
     ]
    }
   ],
   "source": [
    "for iFace in range(450):\n",
    "    print(iFace)\n",
    "    im = misc.imread('./CaltechFaceSet/raw/image_%04d.jpg'%(iFace+1))\n",
    "    coord = coords[:,iFace]\n",
    "\n",
    "    x = [int(min(coord[0],coord[2])),int(max(coord[4],coord[6]))]\n",
    "    y = [int(min(coord[1],coord[3])),int(max(coord[5],coord[7]))]\n",
    "#     width = x[1]-x[0]+50\n",
    "#     height = y[1]-y[0]+50\n",
    "#     L = max(width, height)\n",
    "    \n",
    "#     xmid = (x[1]+x[0])//2\n",
    "#     xl = max(0,xmid -L//2)\n",
    "#     xr = min(im.shape[1]-1,xl + L)\n",
    "#     x = [xl,xr]\n",
    "    \n",
    "#     ymid = (y[1]+y[0])//2\n",
    "#     yt = max(0,ymid -L//2)\n",
    "#     yb = min(im.shape[0]-1,yt + L)\n",
    "#     y = [yt,yb]\n",
    "        \n",
    "    face = im[y[0]:y[1],x[0]:x[1]]\n",
    "    misc.imsave('./CaltechFaceSet/processed/cf%04d.png' % iFace, face)\n",
    "#[x_bot_left y_bot_left x_top_left y_top_left x_top_right y_top_right x_bot_right y_bot_right]\n"
   ]
  },
  {
   "cell_type": "code",
   "execution_count": 15,
   "metadata": {},
   "outputs": [],
   "source": [
    "idx_first = [0,21,41,46,68,89,112,132,137,158,165,170,175,195,216,241,263,268,287,307,336,356,376,398,399,400,401,402,403,408,428]"
   ]
  },
  {
   "cell_type": "code",
   "execution_count": 16,
   "metadata": {},
   "outputs": [],
   "source": [
    "Labels = []\n",
    "for i,idx in enumerate(idx_first):\n",
    "    if i+1==len(idx_first):\n",
    "        j = 449\n",
    "    else:\n",
    "        j = idx_first[i+1]-1\n",
    "    nFace = j-idx+1\n",
    "    for k in range(nFace):\n",
    "        Labels.append(i)"
   ]
  },
  {
   "cell_type": "code",
   "execution_count": 17,
   "metadata": {},
   "outputs": [
    {
     "data": {
      "text/plain": [
       "450"
      ]
     },
     "execution_count": 17,
     "metadata": {},
     "output_type": "execute_result"
    }
   ],
   "source": [
    "len(Labels)"
   ]
  },
  {
   "cell_type": "code",
   "execution_count": 18,
   "metadata": {},
   "outputs": [],
   "source": [
    "np.save('./CaltechFaceSet/processed/Labels',Labels)"
   ]
  },
  {
   "cell_type": "code",
   "execution_count": null,
   "metadata": {},
   "outputs": [],
   "source": []
  }
 ],
 "metadata": {
  "kernelspec": {
   "display_name": "Python 3",
   "language": "python",
   "name": "python3"
  },
  "language_info": {
   "codemirror_mode": {
    "name": "ipython",
    "version": 3
   },
   "file_extension": ".py",
   "mimetype": "text/x-python",
   "name": "python",
   "nbconvert_exporter": "python",
   "pygments_lexer": "ipython3",
   "version": "3.6.4"
  }
 },
 "nbformat": 4,
 "nbformat_minor": 2
}
