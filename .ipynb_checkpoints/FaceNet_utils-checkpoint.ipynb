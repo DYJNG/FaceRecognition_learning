{
 "cells": [
  {
   "cell_type": "code",
   "execution_count": null,
   "metadata": {},
   "outputs": [],
   "source": [
    "from keras.models import model_from_json\n",
    "import numpy as np\n",
    "from scipy import misc\n",
    "import os\n"
   ]
  },
  {
   "cell_type": "code",
   "execution_count": 1,
   "metadata": {},
   "outputs": [],
   "source": [
    "def one_hot(Y):\n",
    "    C = len(list(set(Y)))\n",
    "    Y_OH = np.eye(C)[Y.reshape(-1)]\n",
    "\n",
    "    return Y_OH"
   ]
  },
  {
   "cell_type": "code",
   "execution_count": 2,
   "metadata": {},
   "outputs": [],
   "source": [
    "def evaluate_model(model, X_train, Y_train, X_test, Y_test, maxItem = 100):\n",
    "    #test model on training data set and testing data set\n",
    "    nTrain = min([maxItem, X_train.shape[0]])\n",
    "    print('Performance on Training data set (%d)' % nTrain)\n",
    "    preds = model.evaluate(X_train[0:nTrain], Y_train[0:nTrain])\n",
    "    print (\"Loss = \" + str(preds[0]))\n",
    "    print (\"Train Accuracy = \" + str(preds[1]))\n",
    "\n",
    "    nTest = min([maxItem, X_test.shape[0]])\n",
    "    print('Performance on Testing data set (%d)' % nTest)\n",
    "    preds = model.evaluate(X_test[0:nTest], Y_test[0:nTest])\n",
    "    print (\"Loss = \" + str(preds[0]))\n",
    "    print (\"Test Accuracy = \" + str(preds[1]))"
   ]
  },
  {
   "cell_type": "code",
   "execution_count": 2,
   "metadata": {},
   "outputs": [],
   "source": [
    "def load_QRIFaceData(datapath = '/media/xiang/60DA18E2DA18B5EE/projects/computerVision/QRI_faces_clean/'):\n",
    "    \n",
    "    FaceData = []\n",
    "    labels = []\n",
    "    name_list = []\n",
    "    facefiles = os.listdir(datapath)\n",
    "    for i,facefile in enumerate(facefiles):\n",
    "        im = misc.imread(datapath+facefile)\n",
    "        im = misc.imresize(im,(96,96,3))\n",
    "        im = np.around(np.transpose(im, (2,0,1))/255.0, decimals=12)\n",
    "        #im = np.transpose(im,[2,0,1])\n",
    "        FaceData.append(im)\n",
    "        labels.append(i)\n",
    "        name_list.append(facefile[0:-5])\n",
    "\n",
    "    labels = np.array(labels)\n",
    "    FaceData = np.array(FaceData)\n",
    "    labels_OH = one_hot(labels)\n",
    "    return FaceData, labels,labels_OH, name_list"
   ]
  },
  {
   "cell_type": "code",
   "execution_count": 3,
   "metadata": {},
   "outputs": [],
   "source": [
    "def load_FaceData(datapath = './../Dataset/CaltechFaceSet/processed/'):\n",
    "    FaceData = []\n",
    "    for iFace in range(nFace):\n",
    "        im = misc.imread(datapath+'cf%04d.png' % iFace)\n",
    "        im = misc.imresize(im,(96,96,3))\n",
    "        im = np.around(np.transpose(im, (2,0,1))/255.0, decimals=12)\n",
    "        #im = np.transpose(im,[2,0,1])\n",
    "        FaceData.append(im)\n",
    "    FaceData = np.array(FaceData)\n",
    "    labels = np.load(datapath+'Labels.npy')\n",
    "    labels_OH = one_hot(labels)\n",
    "    return FaceData, labels,labels_OH"
   ]
  },
  {
   "cell_type": "code",
   "execution_count": 4,
   "metadata": {},
   "outputs": [],
   "source": [
    "def face_dist(f1,f2,w=1):\n",
    "    if w==1:\n",
    "        w = np.ones(f1.shape)\n",
    "    if len(f1.shape)==len(f2.shape)==1:\n",
    "        dist = np.linalg.norm((f1-f2)*w)\n",
    "    else:\n",
    "        dist = np.linalg.norm((f1-f2)*w, axis=1)\n",
    "    return dist"
   ]
  },
  {
   "cell_type": "code",
   "execution_count": 5,
   "metadata": {},
   "outputs": [],
   "source": [
    "def distance_based_prediction(FaceEmbedding, Labels, f):\n",
    "    \n",
    "    Dists = face_dist(FaceEmbedding,f)\n",
    "    \n",
    "    i = np.argmin(Dists)\n",
    "    \n",
    "    return Labels[i]"
   ]
  },
  {
   "cell_type": "code",
   "execution_count": 1,
   "metadata": {},
   "outputs": [],
   "source": [
    "def load_base_model():\n",
    "    model = model_from_json(open('./FaceNetModel/FaceNet.json').read())\n",
    "    model.load_weights('./FaceNetModel/FaceNet_weights.h5')\n",
    "    return model"
   ]
  },
  {
   "cell_type": "code",
   "execution_count": null,
   "metadata": {},
   "outputs": [],
   "source": []
  }
 ],
 "metadata": {
  "kernelspec": {
   "display_name": "Python 3",
   "language": "python",
   "name": "python3"
  },
  "language_info": {
   "codemirror_mode": {
    "name": "ipython",
    "version": 3
   },
   "file_extension": ".py",
   "mimetype": "text/x-python",
   "name": "python",
   "nbconvert_exporter": "python",
   "pygments_lexer": "ipython3",
   "version": "3.6.4"
  }
 },
 "nbformat": 4,
 "nbformat_minor": 2
}
